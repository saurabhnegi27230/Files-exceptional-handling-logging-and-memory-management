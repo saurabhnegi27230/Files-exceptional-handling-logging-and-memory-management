{
  "nbformat": 4,
  "nbformat_minor": 0,
  "metadata": {
    "colab": {
      "provenance": []
    },
    "kernelspec": {
      "name": "python3",
      "display_name": "Python 3"
    },
    "language_info": {
      "name": "python"
    }
  },
  "cells": [
    {
      "cell_type": "markdown",
      "source": [
        "**Files, exceptional handling,logging and memory management**\n",
        "\n",
        "Question /  Answer\n",
        "\n",
        "\n",
        "1. Difference between interpreted and compiled languages\n",
        "\n",
        "Interpreted: Code is executed line-by-line by an interpreter (e.g., Python, JavaScript). Slower execution but easier debugging.\n",
        "\n",
        "Compiled: Code is converted into machine code before execution (e.g., C, C++). Faster execution but needs recompilation after changes.\n",
        "\n",
        "2. What is exception handling in Python?\n",
        "\n",
        "A mechanism to handle runtime errors gracefully without crashing the program, using try, except, else, and finally blocks.\n",
        "\n",
        "3. Purpose of the finally block\n",
        "\n",
        "It contains code that will always run, regardless of whether an exception occurred—commonly used for cleanup actions like closing files or releasing resources.\n",
        "\n",
        "4. What is logging in Python?\n",
        "\n",
        "A way to track events and messages in a program for debugging and monitoring, using the logging module.\n",
        "\n",
        "5. Significance of the __del__ method\n",
        "\n",
        "It is a destructor method called when an object is about to be destroyed, used to release resources.\n",
        "\n",
        "6. Difference between import and from ... import\n",
        "\n",
        "import module → You must use module.function().\n",
        "\n",
        "from module import function → You can call function() directly.\n",
        "\n",
        "7. Handling multiple exceptions\n",
        "\n",
        "Use multiple except blocks for different exception types or a single except (Type1, Type2): to catch multiple at once.\n",
        "\n",
        "8. Purpose of the with statement in file handling\n",
        "\n",
        "It automatically manages opening and closing files, ensuring resources are released even if an error occurs.\n",
        "\n",
        "9. Difference between multithreading and multiprocessing\n",
        "\n",
        "Multithreading: Multiple threads share the same memory space (good for I/O-bound tasks).\n",
        "\n",
        "Multiprocessing: Multiple processes have separate memory (good for CPU-bound tasks).\n",
        "\n",
        "10. Advantages of logging\n",
        "\n",
        "Persistent record of events\n",
        "\n",
        "Easier debugging\n",
        "\n",
        "Helps in monitoring program behavior\n",
        "\n",
        "11. What is memory management in Python?\n",
        "\n",
        "Automatic allocation and deallocation of memory using a built-in garbage collector.\n",
        "\n",
        "12. Basic steps in exception handling\n",
        "\n",
        "try → write code that might raise an error\n",
        "\n",
        "except → handle the error\n",
        "\n",
        "else → execute if no error occurs\n",
        "\n",
        "finally → always execute for cleanup\n",
        "\n",
        "13. Why memory management is important\n",
        "\n",
        "It prevents memory leaks, optimizes performance, and ensures efficient use of system resources.\n",
        "\n",
        "14. Role of try and except\n",
        "\n",
        "try contains code that may cause errors; except defines how to handle specific errors.\n",
        "\n",
        "15. How Python’s garbage collection works\n",
        "\n",
        "It uses reference counting and a cyclic garbage collector to remove unused objects from memory.\n",
        "\n",
        "16. Purpose of the else block in exception handling\n",
        "\n",
        "Executes only if no exception was raised in the try block.\n",
        "\n",
        "17. Common logging levels in Python\n",
        "\n",
        "DEBUG, INFO, WARNING, ERROR, CRITICAL.\n",
        "\n",
        "18. Difference between os.fork() and multiprocessing\n",
        "\n",
        "os.fork() → Unix-only, creates a new process identical to the current one.\n",
        "\n",
        "multiprocessing → Cross-platform module that creates and manages separate processes.\n",
        "\n",
        "19. Importance of closing a file\n",
        "\n",
        "Releases system resources, ensures data is written to disk, and avoids file corruption.\n",
        "\n",
        "20. Difference between file.read() and file.readline()\n",
        "\n",
        "read() → Reads the entire file or specified bytes.\n",
        "\n",
        "readline() → Reads one line at a time.\n",
        "\n",
        "21. Logging module usage\n",
        "\n",
        "Used to create logs with different severity levels and save them to files or output streams.\n",
        "\n",
        "22. Purpose of os module in file handling\n",
        "\n",
        "Provides functions for interacting with the operating system, like file/directory creation, deletion, and path operations.\n",
        "\n",
        "23. Challenges in memory management\n",
        "\n",
        "Memory leaks due to lingering references\n",
        "\n",
        "Circular references\n",
        "\n",
        "High memory usage with large data\n",
        "\n",
        "24. Manually raising an exception\n",
        "\n",
        "Use raise ExceptionType(\"message\"). Example:\n",
        "raise ValueError(\"Invalid input\")\n",
        "\n",
        "25. Importance of multithreading in certain applications\n",
        "\n",
        "Helps in improving performance for I/O-bound tasks (e.g., network requests, file reading) by running tasks concurrently."
      ],
      "metadata": {
        "id": "DD3zBwYDoqtg"
      }
    },
    {
      "cell_type": "markdown",
      "source": [
        "**Practical Questions and Answer**"
      ],
      "metadata": {
        "id": "EqkmBtFvpdxg"
      }
    },
    {
      "cell_type": "code",
      "source": [
        "#Q1: How can you open a file for writing in Python and write a string to it?\n",
        "\n",
        "with open(\"example.txt\", \"w\") as file:\n",
        "    file.write(\"Hello, World!\")"
      ],
      "metadata": {
        "id": "XND-NCPTpvME"
      },
      "execution_count": 1,
      "outputs": []
    },
    {
      "cell_type": "code",
      "source": [
        "#Q2: Write a Python program to read the contents of a file and print each line.\n",
        "\n",
        "with open(\"example.txt\", \"r\") as file:\n",
        "    for line in file:\n",
        "        print(line.strip())"
      ],
      "metadata": {
        "colab": {
          "base_uri": "https://localhost:8080/"
        },
        "id": "aNBHpwvFpvXf",
        "outputId": "c02bd8b9-afbf-4f0b-c857-96e140233cc5"
      },
      "execution_count": 2,
      "outputs": [
        {
          "output_type": "stream",
          "name": "stdout",
          "text": [
            "Hello, World!\n"
          ]
        }
      ]
    },
    {
      "cell_type": "code",
      "source": [
        "#Q3: How would you handle a case where the file doesn't exist while trying to open it for reading?\n",
        "\n",
        "try:\n",
        "    with open(\"example.txt\", \"r\") as file:\n",
        "        print(file.read())\n",
        "except FileNotFoundError:\n",
        "    print(\"File not found.\")\n"
      ],
      "metadata": {
        "colab": {
          "base_uri": "https://localhost:8080/"
        },
        "id": "xZhfwvc8pva2",
        "outputId": "a989f576-9849-476f-b440-446202111931"
      },
      "execution_count": 4,
      "outputs": [
        {
          "output_type": "stream",
          "name": "stdout",
          "text": [
            "Hello, World!\n"
          ]
        }
      ]
    },
    {
      "cell_type": "code",
      "source": [
        "#Q4: Write a Python script that reads from one file and writes its content to another file.\n",
        "\n",
        "with open(\"source.txt\", \"r\") as src:\n",
        "    content = src.read()\n",
        "\n",
        "with open(\"destination.txt\", \"w\") as dest:\n",
        "    dest.write(content)\n"
      ],
      "metadata": {
        "id": "JedyUBRupveL"
      },
      "execution_count": null,
      "outputs": []
    },
    {
      "cell_type": "code",
      "source": [
        "#Q5: How would you catch and handle division by zero error in Python?\n",
        "\n",
        "try:\n",
        "    result = 10 / 0\n",
        "except ZeroDivisionError:\n",
        "    print(\"Division by zero is not allowed.\")"
      ],
      "metadata": {
        "colab": {
          "base_uri": "https://localhost:8080/"
        },
        "id": "GWKw9j00pvjN",
        "outputId": "3a5b24bc-3d46-49c9-b234-295bac8bffaf"
      },
      "execution_count": 6,
      "outputs": [
        {
          "output_type": "stream",
          "name": "stdout",
          "text": [
            "Division by zero is not allowed.\n"
          ]
        }
      ]
    },
    {
      "cell_type": "code",
      "source": [
        "Q#6: Write a Python program that logs an error message to a log file when a division by zero exception occurs.\n",
        "\n",
        "import logging\n",
        "\n",
        "logging.basicConfig(filename=\"error.log\", level=logging.ERROR)\n",
        "\n",
        "try:\n",
        "    result = 10 / 0\n",
        "except ZeroDivisionError:\n",
        "    logging.error(\"Division by zero error occurred.\")"
      ],
      "metadata": {
        "id": "SjCdKJ_Spvox"
      },
      "execution_count": null,
      "outputs": []
    },
    {
      "cell_type": "code",
      "source": [
        "#Q7: How do you log information at different levels (INFO, ERROR, WARNING) in Python using the logging module?\n",
        "\n",
        "import logging\n",
        "\n",
        "logging.basicConfig(level=logging.DEBUG)\n",
        "\n",
        "logging.info(\"This is an info message.\")\n",
        "logging.warning(\"This is a warning.\")\n",
        "logging.error(\"This is an error.\")"
      ],
      "metadata": {
        "colab": {
          "base_uri": "https://localhost:8080/"
        },
        "id": "OoZLNKP4pvsU",
        "outputId": "73b1dd25-09f6-4c3c-81fd-3e567676b525"
      },
      "execution_count": 7,
      "outputs": [
        {
          "output_type": "stream",
          "name": "stderr",
          "text": [
            "WARNING:root:This is a warning.\n",
            "ERROR:root:This is an error.\n"
          ]
        }
      ]
    },
    {
      "cell_type": "code",
      "source": [
        "#Q8: Write a program to handle a file opening error using exception handling.\n",
        "\n",
        "try:\n",
        "    with open(\"nonexistent.txt\", \"r\") as file:\n",
        "        print(file.read())\n",
        "except IOError as e:\n",
        "    print(f\"An error occurred: {e}\")\n"
      ],
      "metadata": {
        "id": "TYZwnqNwpvvg"
      },
      "execution_count": null,
      "outputs": []
    },
    {
      "cell_type": "code",
      "source": [
        "#Q9: How can you read a file line by line and store its content in a list in Python?\n",
        "\n",
        "with open(\"example.txt\", \"r\") as file:\n",
        "    lines = file.readlines()\n",
        "\n",
        "print(lines)"
      ],
      "metadata": {
        "id": "5EuIsXhOpvyV"
      },
      "execution_count": null,
      "outputs": []
    },
    {
      "cell_type": "code",
      "source": [
        "#Q10: How can you append data to an existing file in Python?\n",
        "\n",
        "with open(\"example.txt\", \"a\") as file:\n",
        "    file.write(\"\\nNew line appended.\")"
      ],
      "metadata": {
        "id": "3KuaM3EUpv1E"
      },
      "execution_count": null,
      "outputs": []
    },
    {
      "cell_type": "code",
      "source": [
        "#Q11: Write a Python program that uses a try-except block to handle an error when attempting to access a dictionary key that doesn't exist.\n",
        "\n",
        "data = {\"name\": \"John\"}\n",
        "\n",
        "try:\n",
        "    print(data[\"age\"])\n",
        "except KeyError:\n",
        "    print(\"Key not found in dictionary.\")"
      ],
      "metadata": {
        "id": "U9GXn0g3pv34"
      },
      "execution_count": null,
      "outputs": []
    },
    {
      "cell_type": "code",
      "source": [
        "#Q12: Write a program that demonstrates using multiple except blocks to handle different types of exceptions.\n",
        "\n",
        "try:\n",
        "    num = int(\"abc\")  # ValueError\n",
        "    result = 10 / 0   # ZeroDivisionError\n",
        "except ValueError:\n",
        "    print(\"Invalid value.\")\n",
        "except ZeroDivisionError:\n",
        "    print(\"Division by zero.\")"
      ],
      "metadata": {
        "id": "vNt7HujXpv6v"
      },
      "execution_count": null,
      "outputs": []
    },
    {
      "cell_type": "code",
      "source": [
        "#Q13: How would you check if a file exists before attempting to read it in Python?\n",
        "\n",
        "import os\n",
        "\n",
        "if os.path.exists(\"example.txt\"):\n",
        "    with open(\"example.txt\", \"r\") as file:\n",
        "        print(file.read())\n",
        "else:\n",
        "    print(\"File does not exist.\")"
      ],
      "metadata": {
        "id": "Cj92jsaCpv92"
      },
      "execution_count": null,
      "outputs": []
    },
    {
      "cell_type": "code",
      "source": [
        "#Q14: Write a program that uses the logging module to log both informational and error messages.\n",
        "\n",
        "import logging\n",
        "\n",
        "logging.basicConfig(filename=\"app.log\", level=logging.DEBUG)\n",
        "\n",
        "logging.info(\"Application started.\")\n",
        "try:\n",
        "    result = 10 / 0\n",
        "except ZeroDivisionError:\n",
        "    logging.error(\"Division by zero occurred.\")"
      ],
      "metadata": {
        "id": "aU6sSRUhpwBq"
      },
      "execution_count": null,
      "outputs": []
    },
    {
      "cell_type": "code",
      "source": [
        "#Q15: Write a Python program that prints the content of a file and handles the case when the file is empty.\n",
        "\n",
        "with open(\"example.txt\", \"r\") as file:\n",
        "    content = file.read()\n",
        "    if content:\n",
        "        print(content)\n",
        "    else:\n",
        "        print(\"File is empty.\")"
      ],
      "metadata": {
        "id": "P9NZ7g4dpwEx"
      },
      "execution_count": null,
      "outputs": []
    },
    {
      "cell_type": "code",
      "source": [
        "#Q16: Demonstrate how to use memory profiling to check the memory usage of a small program.\n",
        "\n",
        "from memory_profiler import profile\n",
        "\n",
        "@profile\n",
        "def my_function():\n",
        "    data = [i for i in range(100000)]\n",
        "    return data\n",
        "\n",
        "my_function()\n"
      ],
      "metadata": {
        "id": "88-hK6LrpwHy"
      },
      "execution_count": null,
      "outputs": []
    },
    {
      "cell_type": "code",
      "source": [
        "#Q17: Write a Python program to create and write a list of numbers to a file, one number per line.\n",
        "\n",
        "numbers = [1, 2, 3, 4, 5]\n",
        "\n",
        "with open(\"numbers.txt\", \"w\") as file:\n",
        "    for num in numbers:\n",
        "        file.write(f\"{num}\\n\")"
      ],
      "metadata": {
        "id": "08Mw4VNLpwLX"
      },
      "execution_count": null,
      "outputs": []
    },
    {
      "cell_type": "code",
      "source": [
        "#Q18: How would you implement a basic logging setup that logs to a file with rotation after 1MB?\n",
        "\n",
        "import logging\n",
        "from logging.handlers import RotatingFileHandler\n",
        "\n",
        "handler = RotatingFileHandler(\"app.log\", maxBytes=1_000_000, backupCount=5)\n",
        "logging.basicConfig(handlers=[handler], level=logging.INFO)\n",
        "\n",
        "logging.info(\"Application started.\")"
      ],
      "metadata": {
        "id": "i0IjHtpHpwew"
      },
      "execution_count": null,
      "outputs": []
    },
    {
      "cell_type": "code",
      "source": [
        "#Q19: Write a program that handles both IndexError and KeyError using a try-except block.\n",
        "\n",
        "data = {\"name\": \"John\"}\n",
        "lst = [1, 2, 3]\n",
        "\n",
        "try:\n",
        "    print(lst[5])\n",
        "    print(data[\"age\"])\n",
        "except IndexError:\n",
        "    print(\"Index out of range.\")\n",
        "except KeyError:\n",
        "    print(\"Key not found.\")"
      ],
      "metadata": {
        "id": "hoNaGLTZryFD"
      },
      "execution_count": null,
      "outputs": []
    },
    {
      "cell_type": "code",
      "source": [
        "#Q20: How would you open a file and read its contents using a context manager in Python?\n",
        "\n",
        "with open(\"example.txt\", \"r\") as file:\n",
        "    content = file.read()\n",
        "print(content)"
      ],
      "metadata": {
        "id": "ojKwg58fryTM"
      },
      "execution_count": null,
      "outputs": []
    },
    {
      "cell_type": "code",
      "source": [
        "#Q21: Write a Python program that reads a file and prints the number of occurrences of a specific word.\n",
        "\n",
        "word_to_count = \"Python\"\n",
        "count = 0\n",
        "\n",
        "with open(\"example.txt\", \"r\") as file:\n",
        "    for line in file:\n",
        "        count += line.count(word_to_count)\n",
        "\n",
        "print(f\"The word '{word_to_count}' occurred {count} times.\")"
      ],
      "metadata": {
        "id": "86QvmK99sB4r"
      },
      "execution_count": null,
      "outputs": []
    },
    {
      "cell_type": "code",
      "source": [
        "#Q22: How can you check if a file is empty before attempting to read its contents?\n",
        "\n",
        "import os\n",
        "\n",
        "if os.path.getsize(\"example.txt\") == 0:\n",
        "    print(\"File is empty.\")\n",
        "else:\n",
        "    with open(\"example.txt\", \"r\") as file:\n",
        "        print(file.read())"
      ],
      "metadata": {
        "id": "ViarVHF6sCbW"
      },
      "execution_count": null,
      "outputs": []
    },
    {
      "cell_type": "code",
      "source": [
        "#Q23: Write a Python program that writes to a log file when an error occurs during file handling.\n",
        "\n",
        "import logging\n",
        "\n",
        "logging.basicConfig(filename=\"file_errors.log\", level=logging.ERROR)\n",
        "\n",
        "try:\n",
        "    with open(\"nonexistent.txt\", \"r\") as file:\n",
        "        print(file.read())\n",
        "except Exception as e:\n",
        "    logging.error(f\"File handling error: {e}\")"
      ],
      "metadata": {
        "id": "2ZOCEMMtsHoJ"
      },
      "execution_count": null,
      "outputs": []
    }
  ]
}